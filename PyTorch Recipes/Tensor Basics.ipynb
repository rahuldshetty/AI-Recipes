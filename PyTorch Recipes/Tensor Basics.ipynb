{
 "cells": [
  {
   "cell_type": "code",
   "execution_count": 1,
   "metadata": {},
   "outputs": [],
   "source": [
    "import torch\n",
    "import numpy as np"
   ]
  },
  {
   "cell_type": "code",
   "execution_count": 2,
   "metadata": {},
   "outputs": [
    {
     "name": "stdout",
     "output_type": "stream",
     "text": [
      "Torch version: 2.2.0+cpu\n",
      "Numpy version: 1.25.2\n"
     ]
    }
   ],
   "source": [
    "print(\"Torch version:\", torch.version.__version__)\n",
    "print(\"Numpy version:\", np.version.__version__)"
   ]
  },
  {
   "cell_type": "markdown",
   "metadata": {},
   "source": [
    "## Using Tensors"
   ]
  },
  {
   "cell_type": "markdown",
   "metadata": {},
   "source": [
    "### Scalars\n",
    "\n",
    "The atomic value or smallest unit of information that can be stored inside a tensor object. These do not have any dimensions as they are pure values. You can relate them to a leaf nodes when considering a expression tree."
   ]
  },
  {
   "cell_type": "code",
   "execution_count": 3,
   "metadata": {},
   "outputs": [
    {
     "data": {
      "text/plain": [
       "tensor(10)"
      ]
     },
     "execution_count": 3,
     "metadata": {},
     "output_type": "execute_result"
    }
   ],
   "source": [
    "val = 10\n",
    "scalar = torch.tensor(val)\n",
    "scalar"
   ]
  },
  {
   "cell_type": "code",
   "execution_count": 4,
   "metadata": {},
   "outputs": [
    {
     "data": {
      "text/plain": [
       "0"
      ]
     },
     "execution_count": 4,
     "metadata": {},
     "output_type": "execute_result"
    }
   ],
   "source": [
    "# Number of dimensions\n",
    "scalar.ndim"
   ]
  },
  {
   "cell_type": "code",
   "execution_count": 5,
   "metadata": {},
   "outputs": [
    {
     "data": {
      "text/plain": [
       "torch.Size([])"
      ]
     },
     "execution_count": 5,
     "metadata": {},
     "output_type": "execute_result"
    }
   ],
   "source": [
    "scalar.shape"
   ]
  },
  {
   "cell_type": "code",
   "execution_count": 6,
   "metadata": {},
   "outputs": [
    {
     "data": {
      "text/plain": [
       "False"
      ]
     },
     "execution_count": 6,
     "metadata": {},
     "output_type": "execute_result"
    }
   ],
   "source": [
    "torch.is_tensor(val)"
   ]
  },
  {
   "cell_type": "code",
   "execution_count": 7,
   "metadata": {},
   "outputs": [
    {
     "data": {
      "text/plain": [
       "True"
      ]
     },
     "execution_count": 7,
     "metadata": {},
     "output_type": "execute_result"
    }
   ],
   "source": [
    "torch.is_tensor(scalar)"
   ]
  },
  {
   "cell_type": "markdown",
   "metadata": {},
   "source": [
    "### Vectors\n",
    "\n",
    "A tensor with one-dimensional array of numbers form a vector datatype. "
   ]
  },
  {
   "cell_type": "code",
   "execution_count": 8,
   "metadata": {},
   "outputs": [
    {
     "data": {
      "text/plain": [
       "[0, 2, 4, 6, 8, 10, 12, 14, 16, 18]"
      ]
     },
     "execution_count": 8,
     "metadata": {},
     "output_type": "execute_result"
    }
   ],
   "source": [
    "x = list(range(0, 20, 2))\n",
    "x"
   ]
  },
  {
   "cell_type": "code",
   "execution_count": 9,
   "metadata": {},
   "outputs": [
    {
     "data": {
      "text/plain": [
       "tensor([ 0,  2,  4,  6,  8, 10, 12, 14, 16, 18])"
      ]
     },
     "execution_count": 9,
     "metadata": {},
     "output_type": "execute_result"
    }
   ],
   "source": [
    "vector = torch.tensor(x)\n",
    "vector"
   ]
  },
  {
   "cell_type": "code",
   "execution_count": 10,
   "metadata": {},
   "outputs": [
    {
     "data": {
      "text/plain": [
       "1"
      ]
     },
     "execution_count": 10,
     "metadata": {},
     "output_type": "execute_result"
    }
   ],
   "source": [
    "# Number of dimensions\n",
    "vector.ndim"
   ]
  },
  {
   "cell_type": "code",
   "execution_count": 11,
   "metadata": {},
   "outputs": [
    {
     "data": {
      "text/plain": [
       "torch.Size([10])"
      ]
     },
     "execution_count": 11,
     "metadata": {},
     "output_type": "execute_result"
    }
   ],
   "source": [
    "vector.shape"
   ]
  },
  {
   "cell_type": "code",
   "execution_count": 12,
   "metadata": {},
   "outputs": [
    {
     "data": {
      "text/plain": [
       "True"
      ]
     },
     "execution_count": 12,
     "metadata": {},
     "output_type": "execute_result"
    }
   ],
   "source": [
    "torch.is_tensor(vector)"
   ]
  },
  {
   "cell_type": "markdown",
   "metadata": {},
   "source": [
    "### Matrix\n",
    "\n",
    "A 2-dimensional arrangement of scalars in row and column order forms a matrix."
   ]
  },
  {
   "cell_type": "code",
   "execution_count": 13,
   "metadata": {},
   "outputs": [
    {
     "data": {
      "text/plain": [
       "tensor([[ 4,  5],\n",
       "        [10, 10]])"
      ]
     },
     "execution_count": 13,
     "metadata": {},
     "output_type": "execute_result"
    }
   ],
   "source": [
    "matrix = torch.tensor([\n",
    "    [4, 5],\n",
    "    [10, 10]\n",
    "])\n",
    "matrix"
   ]
  },
  {
   "cell_type": "code",
   "execution_count": 14,
   "metadata": {},
   "outputs": [
    {
     "data": {
      "text/plain": [
       "2"
      ]
     },
     "execution_count": 14,
     "metadata": {},
     "output_type": "execute_result"
    }
   ],
   "source": [
    "matrix.ndim"
   ]
  },
  {
   "cell_type": "code",
   "execution_count": 15,
   "metadata": {},
   "outputs": [
    {
     "data": {
      "text/plain": [
       "torch.Size([2, 2])"
      ]
     },
     "execution_count": 15,
     "metadata": {},
     "output_type": "execute_result"
    }
   ],
   "source": [
    "matrix.shape"
   ]
  },
  {
   "cell_type": "code",
   "execution_count": 16,
   "metadata": {},
   "outputs": [
    {
     "data": {
      "text/plain": [
       "True"
      ]
     },
     "execution_count": 16,
     "metadata": {},
     "output_type": "execute_result"
    }
   ],
   "source": [
    "torch.is_tensor(matrix)"
   ]
  },
  {
   "cell_type": "markdown",
   "metadata": {},
   "source": [
    "### Tensor\n",
    "\n",
    "A multi-dimensional collection of elements is called a tensor."
   ]
  },
  {
   "cell_type": "code",
   "execution_count": 17,
   "metadata": {},
   "outputs": [],
   "source": [
    "tensor = torch.tensor([[\n",
    "    [1, 2],\n",
    "    [4, 5],\n",
    "    [7, 8]\n",
    "]])"
   ]
  },
  {
   "cell_type": "code",
   "execution_count": 18,
   "metadata": {},
   "outputs": [
    {
     "data": {
      "text/plain": [
       "3"
      ]
     },
     "execution_count": 18,
     "metadata": {},
     "output_type": "execute_result"
    }
   ],
   "source": [
    "tensor.ndim"
   ]
  },
  {
   "cell_type": "code",
   "execution_count": 19,
   "metadata": {},
   "outputs": [
    {
     "data": {
      "text/plain": [
       "torch.Size([1, 3, 2])"
      ]
     },
     "execution_count": 19,
     "metadata": {},
     "output_type": "execute_result"
    }
   ],
   "source": [
    "tensor.shape"
   ]
  },
  {
   "cell_type": "code",
   "execution_count": 20,
   "metadata": {},
   "outputs": [
    {
     "data": {
      "text/plain": [
       "torch.int64"
      ]
     },
     "execution_count": 20,
     "metadata": {},
     "output_type": "execute_result"
    }
   ],
   "source": [
    "# Tensor Data type\n",
    "tensor.dtype"
   ]
  },
  {
   "cell_type": "code",
   "execution_count": 21,
   "metadata": {},
   "outputs": [
    {
     "data": {
      "text/plain": [
       "device(type='cpu')"
      ]
     },
     "execution_count": 21,
     "metadata": {},
     "output_type": "execute_result"
    }
   ],
   "source": [
    "tensor.device"
   ]
  },
  {
   "cell_type": "code",
   "execution_count": 22,
   "metadata": {},
   "outputs": [
    {
     "data": {
      "text/plain": [
       "True"
      ]
     },
     "execution_count": 22,
     "metadata": {},
     "output_type": "execute_result"
    }
   ],
   "source": [
    "torch.is_tensor(tensor)"
   ]
  },
  {
   "cell_type": "markdown",
   "metadata": {},
   "source": [
    "## Random Tensors and Operations"
   ]
  },
  {
   "cell_type": "code",
   "execution_count": 23,
   "metadata": {},
   "outputs": [
    {
     "data": {
      "text/plain": [
       "(torch.Size([1, 2, 3, 4, 5]), torch.float32, 5)"
      ]
     },
     "execution_count": 23,
     "metadata": {},
     "output_type": "execute_result"
    }
   ],
   "source": [
    "y = torch.randn(1, 2, 3, 4, 5)\n",
    "y.shape, y.dtype, y.ndim"
   ]
  },
  {
   "cell_type": "code",
   "execution_count": 24,
   "metadata": {},
   "outputs": [
    {
     "data": {
      "text/plain": [
       "120"
      ]
     },
     "execution_count": 24,
     "metadata": {},
     "output_type": "execute_result"
    }
   ],
   "source": [
    "# Calculate number of elements\n",
    "y.numel()"
   ]
  },
  {
   "cell_type": "code",
   "execution_count": 25,
   "metadata": {},
   "outputs": [
    {
     "data": {
      "text/plain": [
       "(tensor([[0., 0., 0.]]), torch.Size([1, 3]), 3, 2)"
      ]
     },
     "execution_count": 25,
     "metadata": {},
     "output_type": "execute_result"
    }
   ],
   "source": [
    "# Zero tensor\n",
    "zeros = torch.zeros([1,3])\n",
    "zeros, zeros.shape, zeros.numel(), zeros.ndim"
   ]
  },
  {
   "cell_type": "code",
   "execution_count": 26,
   "metadata": {},
   "outputs": [
    {
     "data": {
      "text/plain": [
       "(tensor([[1., 0., 0.],\n",
       "         [0., 1., 0.],\n",
       "         [0., 0., 1.]]),\n",
       " torch.Size([3, 3]),\n",
       " 9,\n",
       " 2)"
      ]
     },
     "execution_count": 26,
     "metadata": {},
     "output_type": "execute_result"
    }
   ],
   "source": [
    "# Identity tensor - Diagonal matrix of 1's\n",
    "identity = torch.eye(3) # Input is single parameter defining the size of the resultant square matrix\n",
    "identity, identity.shape, identity.numel(), identity.ndim"
   ]
  },
  {
   "cell_type": "code",
   "execution_count": 27,
   "metadata": {},
   "outputs": [
    {
     "data": {
      "text/plain": [
       "(array([ 0,  2,  4,  6,  8, 10, 12, 14, 16, 18]),\n",
       " tensor([ 0,  2,  4,  6,  8, 10, 12, 14, 16, 18], dtype=torch.int32))"
      ]
     },
     "execution_count": 27,
     "metadata": {},
     "output_type": "execute_result"
    }
   ],
   "source": [
    "# convert numpy array to torch tensor\n",
    "np_arr = np.array(x)\n",
    "trch_converted = torch.from_numpy(np_arr)\n",
    "\n",
    "np_arr, trch_converted"
   ]
  },
  {
   "cell_type": "code",
   "execution_count": 28,
   "metadata": {},
   "outputs": [
    {
     "data": {
      "text/plain": [
       "tensor([ 2.,  4.,  6.,  8., 10.])"
      ]
     },
     "execution_count": 28,
     "metadata": {},
     "output_type": "execute_result"
    }
   ],
   "source": [
    "# Linear space and points between the linear space can be created using tensor\n",
    "torch.linspace(2, 10, steps=5)"
   ]
  },
  {
   "cell_type": "code",
   "execution_count": 29,
   "metadata": {},
   "outputs": [
    {
     "data": {
      "text/plain": [
       "tensor([1.0000e-10, 2.6827e-09, 7.1969e-08, 1.9307e-06, 5.1795e-05, 1.3895e-03,\n",
       "        3.7276e-02, 1.0000e+00, 2.6827e+01, 7.1969e+02, 1.9307e+04, 5.1795e+05,\n",
       "        1.3895e+07, 3.7276e+08, 1.0000e+10])"
      ]
     },
     "execution_count": 29,
     "metadata": {},
     "output_type": "execute_result"
    }
   ],
   "source": [
    "# logarithmic spacing can also be created\n",
    "torch.logspace(-10, 10, steps=15)"
   ]
  },
  {
   "cell_type": "code",
   "execution_count": 30,
   "metadata": {},
   "outputs": [
    {
     "data": {
      "text/plain": [
       "tensor([[[1., 1., 1.],\n",
       "         [1., 1., 1.]]])"
      ]
     },
     "execution_count": 30,
     "metadata": {},
     "output_type": "execute_result"
    }
   ],
   "source": [
    "# One's array\n",
    "torch.ones([1, 2, 3])"
   ]
  },
  {
   "cell_type": "code",
   "execution_count": 31,
   "metadata": {},
   "outputs": [
    {
     "data": {
      "text/plain": [
       "tensor([[[1., 1., 1.],\n",
       "         [1., 1., 1.]]])"
      ]
     },
     "execution_count": 31,
     "metadata": {},
     "output_type": "execute_result"
    }
   ],
   "source": [
    "torch.ones(1, 2, 3)"
   ]
  },
  {
   "cell_type": "code",
   "execution_count": 32,
   "metadata": {},
   "outputs": [
    {
     "data": {
      "text/plain": [
       "tensor([0.2943, 0.8766, 0.1220, 0.4201, 0.7140, 0.1634, 0.0093, 0.2379, 0.1421,\n",
       "        0.7370])"
      ]
     },
     "execution_count": 32,
     "metadata": {},
     "output_type": "execute_result"
    }
   ],
   "source": [
    "# Generating random number from uniform distribution between the values 0 and 1, with mean=0 and variance=1\n",
    "torch.rand(10)"
   ]
  },
  {
   "cell_type": "code",
   "execution_count": 33,
   "metadata": {},
   "outputs": [
    {
     "data": {
      "text/plain": [
       "tensor([2, 3, 7, 0, 6, 1, 4, 5, 9, 8])"
      ]
     },
     "execution_count": 33,
     "metadata": {},
     "output_type": "execute_result"
    }
   ],
   "source": [
    "# permutation: select values from a range\n",
    "torch.randperm(10)"
   ]
  },
  {
   "cell_type": "code",
   "execution_count": 34,
   "metadata": {},
   "outputs": [
    {
     "data": {
      "text/plain": [
       "tensor([2, 4, 6, 8])"
      ]
     },
     "execution_count": 34,
     "metadata": {},
     "output_type": "execute_result"
    }
   ],
   "source": [
    "# range function\n",
    "torch.arange(2, 10, 2)"
   ]
  },
  {
   "cell_type": "code",
   "execution_count": 35,
   "metadata": {},
   "outputs": [
    {
     "name": "stdout",
     "output_type": "stream",
     "text": [
      "tensor([[16.3525, 11.5621, 10.7333, -6.5413, -0.4173],\n",
      "        [ 6.0855, -8.0752, -1.6694, -1.9748,  2.3242]]) 2\n",
      "Minimum Value: tensor([1, 1, 1, 0, 0])\n",
      "Maximum Value: tensor([0, 0, 0, 1, 1])\n",
      "Minimum Value: tensor([3, 1])\n",
      "Maximum Value: tensor([0, 0])\n"
     ]
    }
   ],
   "source": [
    "# to find index of the minimum and maximum value in tensor\n",
    "d = torch.randn(2, 5) * 10\n",
    "print(d, d.ndim)\n",
    "\n",
    "print(\"Minimum Value:\", torch.argmin(d, dim=0))\n",
    "print(\"Maximum Value:\", torch.argmax(d, dim=0))\n",
    "\n",
    "print(\"Minimum Value:\", torch.argmin(d, dim=1))\n",
    "print(\"Maximum Value:\", torch.argmax(d, dim=1))\n"
   ]
  },
  {
   "cell_type": "code",
   "execution_count": 36,
   "metadata": {},
   "outputs": [
    {
     "name": "stdout",
     "output_type": "stream",
     "text": [
      "a (torch.Size([1, 4])) =  tensor([[1., 1., 1., 1.]])\n",
      "b (torch.Size([1, 4])) =  tensor([[2., 2., 2., 2.]])\n",
      "c (torch.Size([2, 4])) =  tensor([[1., 1., 1., 1.],\n",
      "        [2., 2., 2., 2.]])\n"
     ]
    }
   ],
   "source": [
    "a = torch.ones([1, 4])\n",
    "b = torch.ones([1, 4]) * 2\n",
    "\n",
    "c = torch.concat([a, b])\n",
    "\n",
    "print(f\"a ({a.shape}) = \", a)\n",
    "print(f\"b ({b.shape}) = \", b)\n",
    "print(f\"c ({c.shape}) = \", c)"
   ]
  },
  {
   "cell_type": "code",
   "execution_count": 37,
   "metadata": {},
   "outputs": [
    {
     "data": {
      "text/plain": [
       "(tensor([0, 1, 2]), tensor([3, 4, 5]), tensor([6, 7, 8]), tensor([ 9, 10]))"
      ]
     },
     "execution_count": 37,
     "metadata": {},
     "output_type": "execute_result"
    }
   ],
   "source": [
    "# split tensor into given number of total chunks\n",
    "torch.arange(11).chunk(4)"
   ]
  },
  {
   "cell_type": "code",
   "execution_count": 53,
   "metadata": {},
   "outputs": [
    {
     "data": {
      "text/plain": [
       "(tensor([0, 1, 2, 3]), tensor([4, 5, 6, 7]), tensor([ 8,  9, 10]))"
      ]
     },
     "execution_count": 53,
     "metadata": {},
     "output_type": "execute_result"
    }
   ],
   "source": [
    "# split tensor with each sub-tensor of given chunk size\n",
    "torch.arange(11).split(4)"
   ]
  },
  {
   "cell_type": "code",
   "execution_count": 38,
   "metadata": {},
   "outputs": [
    {
     "data": {
      "text/plain": [
       "tensor([[11., 11.],\n",
       "        [24., 23.]])"
      ]
     },
     "execution_count": 38,
     "metadata": {},
     "output_type": "execute_result"
    }
   ],
   "source": [
    "# Takes element from one array and places them based on another's array input (Long Tensor)\n",
    "torch.gather(\n",
    "    torch.Tensor([[11, 12], [23,24]]), 1,\n",
    "    torch.LongTensor([[0,0],[1,0]])\n",
    ")"
   ]
  },
  {
   "cell_type": "code",
   "execution_count": 50,
   "metadata": {},
   "outputs": [
    {
     "name": "stdout",
     "output_type": "stream",
     "text": [
      "a= tensor([[ 0,  1,  2,  3],\n",
      "        [ 4,  5,  6,  7],\n",
      "        [ 8,  9, 10, 11],\n",
      "        [12, 13, 14, 15]]) \n",
      "\n",
      "tensor([[ 0,  1,  2,  3],\n",
      "        [ 8,  9, 10, 11]]) \n",
      "\n",
      "tensor([[ 0,  2],\n",
      "        [ 4,  6],\n",
      "        [ 8, 10],\n",
      "        [12, 14]]) \n",
      "\n"
     ]
    }
   ],
   "source": [
    "# Change shape of tensor\n",
    "a = torch.arange(16).reshape((4, 4))\n",
    "print(\"a=\", a, \"\\n\")\n",
    "\n",
    "# Selecting specific rows (axis = 0)\n",
    "idxs = torch.LongTensor([0, 2])\n",
    "print(torch.index_select(a, 0, idxs), \"\\n\")\n",
    "\n",
    "# Selecting columns (axis = 1)\n",
    "idxs = torch.LongTensor([0, 2])\n",
    "print(torch.index_select(a, 1, idxs), \"\\n\")\n"
   ]
  },
  {
   "cell_type": "code",
   "execution_count": 52,
   "metadata": {},
   "outputs": [
    {
     "data": {
      "text/plain": [
       "tensor([[0],\n",
       "        [2],\n",
       "        [4]])"
      ]
     },
     "execution_count": 52,
     "metadata": {},
     "output_type": "execute_result"
    }
   ],
   "source": [
    "# Get list of indices with non-zero values\n",
    "torch.nonzero(torch.tensor([10, 0, 23, 0, -10, -0])) "
   ]
  },
  {
   "cell_type": "code",
   "execution_count": 54,
   "metadata": {},
   "outputs": [
    {
     "data": {
      "text/plain": [
       "torch.Size([3, 2, 4])"
      ]
     },
     "execution_count": 54,
     "metadata": {},
     "output_type": "execute_result"
    }
   ],
   "source": [
    "torch.Size([3, 2, 4])"
   ]
  },
  {
   "cell_type": "code",
   "execution_count": 60,
   "metadata": {},
   "outputs": [
    {
     "name": "stdout",
     "output_type": "stream",
     "text": [
      "tensor([[ 0,  1,  2,  3],\n",
      "        [ 4,  5,  6,  7],\n",
      "        [ 8,  9, 10, 11],\n",
      "        [12, 13, 14, 15]]) \n",
      "\n",
      "tensor([[ 0,  4,  8, 12],\n",
      "        [ 1,  5,  9, 13],\n",
      "        [ 2,  6, 10, 14],\n",
      "        [ 3,  7, 11, 15]]) \n",
      "\n",
      "tensor([[ 0,  4,  8, 12],\n",
      "        [ 1,  5,  9, 13],\n",
      "        [ 2,  6, 10, 14],\n",
      "        [ 3,  7, 11, 15]])\n"
     ]
    }
   ],
   "source": [
    "# Transpose a tensor\n",
    "a = torch.arange(16).reshape((4, 4))\n",
    "print(a, \"\\n\")\n",
    "\n",
    "# Transpose rows and columns\n",
    "print(a.t(),\"\\n\")\n",
    "\n",
    "# Transpose specific axis\n",
    "print(a.transpose(1, 0))\n"
   ]
  },
  {
   "cell_type": "code",
   "execution_count": 61,
   "metadata": {},
   "outputs": [
    {
     "name": "stdout",
     "output_type": "stream",
     "text": [
      "tensor([[ 0,  1,  2,  3],\n",
      "        [ 4,  5,  6,  7],\n",
      "        [ 8,  9, 10, 11],\n",
      "        [12, 13, 14, 15]]) \n",
      "\n",
      "(tensor([ 0,  4,  8, 12]), tensor([ 1,  5,  9, 13]), tensor([ 2,  6, 10, 14]), tensor([ 3,  7, 11, 15]))\n",
      "(tensor([0, 1, 2, 3]), tensor([4, 5, 6, 7]), tensor([ 8,  9, 10, 11]), tensor([12, 13, 14, 15]))\n"
     ]
    }
   ],
   "source": [
    "# Delete dimension\n",
    "a = torch.arange(16).reshape((4, 4))\n",
    "print(a, \"\\n\")\n",
    "\n",
    "print(torch.unbind(a, 1))\n",
    "\n",
    "print(torch.unbind(a))\n"
   ]
  },
  {
   "cell_type": "markdown",
   "metadata": {},
   "source": [
    "## Mathematical Operations"
   ]
  },
  {
   "cell_type": "code",
   "execution_count": 64,
   "metadata": {},
   "outputs": [
    {
     "name": "stdout",
     "output_type": "stream",
     "text": [
      "tensor([1.0900, 2.5678, 4.0000, 1.3000])\n",
      "tensor([1.0900, 2.5678, 4.0000, 1.3000])\n"
     ]
    }
   ],
   "source": [
    "# absolute value\n",
    "print(torch.abs(torch.tensor([1.09, 2.56777, 3.99999999999999999, -1.2999999999])))\n",
    "\n",
    "print(torch.abs(torch.FloatTensor([1.09, 2.56777, 3.99999999999999999, -1.2999999999])))\n"
   ]
  },
  {
   "cell_type": "code",
   "execution_count": 70,
   "metadata": {},
   "outputs": [
    {
     "name": "stdout",
     "output_type": "stream",
     "text": [
      "tensor([[10.,  9.],\n",
      "        [ 9., 10.]])\n"
     ]
    }
   ],
   "source": [
    "# scalar addition   \n",
    "print(torch.eye(2, 2).add(9))       "
   ]
  },
  {
   "cell_type": "code",
   "execution_count": 72,
   "metadata": {},
   "outputs": [
    {
     "name": "stdout",
     "output_type": "stream",
     "text": [
      "tensor([[9., 0.],\n",
      "        [0., 9.]])\n"
     ]
    }
   ],
   "source": [
    "# scalar multiplication\n",
    "print(torch.eye(2, 2).mul(9))"
   ]
  },
  {
   "cell_type": "code",
   "execution_count": 78,
   "metadata": {},
   "outputs": [
    {
     "name": "stdout",
     "output_type": "stream",
     "text": [
      "slope m =  0.74\n",
      "input x =  tensor([[1.5075, 0.1593],\n",
      "        [0.0700, 0.6625]])\n",
      "bias c =  tensor([1.2036])\n",
      "mx + c = tensor([[2.3191, 1.3215],\n",
      "        [1.2554, 1.6939]])\n",
      "mx + c = tensor([[2.3191, 1.3215],\n",
      "        [1.2554, 1.6939]])\n"
     ]
    }
   ],
   "source": [
    "# How to represent the below equation\n",
    "# y = mx + c\n",
    "\n",
    "x = torch.randn(2, 2)\n",
    "bias = torch.randn(1)\n",
    "slope = 0.74\n",
    "\n",
    "print(\"slope m = \", slope)\n",
    "print(\"input x = \", x)\n",
    "\n",
    "print(\"bias c = \", bias)\n",
    "\n",
    "print(\"mx + c =\", slope * x + bias)\n",
    "\n",
    "print(\"mx + c =\", torch.add(torch.mul(x, slope), bias))\n",
    "\n"
   ]
  },
  {
   "cell_type": "code",
   "execution_count": 81,
   "metadata": {},
   "outputs": [
    {
     "name": "stdout",
     "output_type": "stream",
     "text": [
      "tensor([[1., 0.],\n",
      "        [0., 1.]])\n",
      "tensor([[1., 0.],\n",
      "        [0., 1.]])\n",
      "tensor([[1., 0.],\n",
      "        [0., 1.]])\n"
     ]
    }
   ],
   "source": [
    "# Element wise matrix multiplication\n",
    "i = torch.eye(2, 2)\n",
    "\n",
    "print(i * i)\n",
    "\n",
    "print(i @ i)\n",
    "\n",
    "print(torch.matmul(i, i))"
   ]
  },
  {
   "cell_type": "code",
   "execution_count": 83,
   "metadata": {},
   "outputs": [
    {
     "name": "stdout",
     "output_type": "stream",
     "text": [
      "tensor([[-0., -0.,  1., -0.,  1.],\n",
      "        [ 1., -0., -0., -0., -0.],\n",
      "        [-1., -0.,  1., -0.,  2.],\n",
      "        [ 1., -1.,  2., -0., -0.],\n",
      "        [-1.,  1., -0.,  1.,  1.]])\n",
      "tensor([[-1., -1.,  0., -1.,  0.],\n",
      "        [ 0., -1., -1., -1., -1.],\n",
      "        [-2., -1.,  0., -1.,  1.],\n",
      "        [ 0., -2.,  1., -1., -1.],\n",
      "        [-2.,  0., -1.,  0.,  0.]])\n"
     ]
    }
   ],
   "source": [
    "# ceil and floor functions\n",
    "torch.manual_seed(1234)\n",
    "print(torch.ceil(torch.randn(5, 5)))\n",
    "\n",
    "torch.manual_seed(1234)\n",
    "print(torch.floor(torch.randn(5, 5)))\n"
   ]
  },
  {
   "cell_type": "code",
   "execution_count": 85,
   "metadata": {},
   "outputs": [
    {
     "data": {
      "text/plain": [
       "tensor([[  1,   2,   3],\n",
       "        [  0, -10,   1],\n",
       "        [ 10,  10,   4]])"
      ]
     },
     "execution_count": 85,
     "metadata": {},
     "output_type": "execute_result"
    }
   ],
   "source": [
    "# clamp function: limit min and max value range of a tensor\n",
    "torch.clamp(\n",
    "    torch.tensor([[1, 2, 3], [0, -100, 1], [100000, 12, 4]]),\n",
    "    min = -10, \n",
    "    max = 10\n",
    ")"
   ]
  },
  {
   "cell_type": "code",
   "execution_count": 88,
   "metadata": {},
   "outputs": [
    {
     "name": "stdout",
     "output_type": "stream",
     "text": [
      "tensor([1., 2., 3., 4.])\n",
      "tensor([1., 2., 3., 4., 5.])\n"
     ]
    }
   ],
   "source": [
    "# Scalar Division\n",
    "print(torch.div(\n",
    "    torch.tensor([2, 4, 6, 8]),\n",
    "    2\n",
    ")\n",
    ")\n",
    "\n",
    "print(torch.tensor([2, 4, 6, 8, 10]) / 2.0)"
   ]
  },
  {
   "cell_type": "code",
   "execution_count": 90,
   "metadata": {},
   "outputs": [
    {
     "data": {
      "text/plain": [
       "tensor([1.0000, 2.7183, 7.3891])"
      ]
     },
     "execution_count": 90,
     "metadata": {},
     "output_type": "execute_result"
    }
   ],
   "source": [
    "# Exponential of tensor. (e ^ tensor)\n",
    "torch.exp(torch.arange(3))"
   ]
  },
  {
   "cell_type": "code",
   "execution_count": 91,
   "metadata": {},
   "outputs": [
    {
     "data": {
      "text/plain": [
       "tensor([ 0.9000,  0.0070, -0.0030,  0.2300])"
      ]
     },
     "execution_count": 91,
     "metadata": {},
     "output_type": "execute_result"
    }
   ],
   "source": [
    "# extract fractional part of tensor\n",
    "torch.frac(torch.tensor([0.9, 0.007, -0.003, 100.23]))"
   ]
  },
  {
   "cell_type": "code",
   "execution_count": 4,
   "metadata": {},
   "outputs": [
    {
     "name": "stdout",
     "output_type": "stream",
     "text": [
      "tensor([   nan, 0.0000,   -inf, 3.1355, 0.8755])\n",
      "tensor([  2.2500,   1.0000,   0.0000, 529.0000,   5.7600])\n"
     ]
    }
   ],
   "source": [
    "x = torch.tensor([-1.5, 1, 0, 23, 2.4])\n",
    "\n",
    "# logs of negative NaN\n",
    "print(torch.log(x))\n",
    "\n",
    "print(torch.pow(x, 2))"
   ]
  },
  {
   "cell_type": "code",
   "execution_count": 6,
   "metadata": {},
   "outputs": [
    {
     "name": "stdout",
     "output_type": "stream",
     "text": [
      "tensor([[1., -0.],\n",
      "        [0., 0.]])\n",
      "tensor([[1., -0.],\n",
      "        [0., 0.]])\n"
     ]
    }
   ],
   "source": [
    "x = torch.tensor([[1.3145, -0.3199], [0.1739, 0.0347]])\n",
    "\n",
    "print(np.round(x))\n",
    "\n",
    "print(torch.round(x))"
   ]
  },
  {
   "cell_type": "code",
   "execution_count": 9,
   "metadata": {},
   "outputs": [
    {
     "name": "stdout",
     "output_type": "stream",
     "text": [
      "tensor([-2.5267, -3.6728,  4.2588, -0.3068, -3.8371])\n",
      "tensor([0.0740, 0.0248, 0.9861, 0.4239, 0.0211])\n",
      "tensor([   nan,    nan, 2.0637,    nan,    nan])\n"
     ]
    }
   ],
   "source": [
    "x = torch.randn(5) * 2\n",
    "print(x)\n",
    "\n",
    "print(torch.sigmoid(x))\n",
    "\n",
    "print(torch.sqrt(x))"
   ]
  },
  {
   "cell_type": "code",
   "execution_count": 15,
   "metadata": {},
   "outputs": [
    {
     "name": "stdout",
     "output_type": "stream",
     "text": [
      "tensor([10, 30, 50, 70, 90])\n",
      "Max:  tensor(90)\n",
      "ArgMax:  tensor(4)\n",
      "Min:  tensor(10)\n",
      "ArgMin:  tensor(0)\n",
      "Sum:  tensor(250)\n"
     ]
    }
   ],
   "source": [
    "x = torch.arange(10, 100, 20)\n",
    "print(x)\n",
    "\n",
    "print(\"Max: \", x.max())\n",
    "print(\"ArgMax: \", x.argmax())\n",
    "\n",
    "print(\"Min: \", x.min()) # value\n",
    "print(\"ArgMin: \", x.argmin()) # index\n",
    "print(\"Sum: \", x.sum())\n",
    "\n"
   ]
  },
  {
   "cell_type": "code",
   "execution_count": 21,
   "metadata": {},
   "outputs": [
    {
     "name": "stdout",
     "output_type": "stream",
     "text": [
      "Stack 1: tensor([[0, 1, 2, 3, 4],\n",
      "        [0, 1, 2, 3, 4]])\n",
      "Stack 2: tensor([[0, 1, 2, 3, 4],\n",
      "        [0, 1, 2, 3, 4]])\n",
      "Stack 3: tensor([[0, 0],\n",
      "        [1, 1],\n",
      "        [2, 2],\n",
      "        [3, 3],\n",
      "        [4, 4]])\n"
     ]
    }
   ],
   "source": [
    "a = torch.arange(5)\n",
    "b = torch.arange(5)\n",
    "print(\"Stack 1:\", torch.stack([a, b]))\n",
    "print(\"Stack 2:\", torch.stack([a, b], dim=0))\n",
    "\n",
    "print(\"Stack 3:\", torch.stack([a, b], dim=1))"
   ]
  },
  {
   "cell_type": "code",
   "execution_count": 29,
   "metadata": {},
   "outputs": [
    {
     "name": "stdout",
     "output_type": "stream",
     "text": [
      "C:  tensor([[ 0,  1,  2,  3],\n",
      "        [ 4,  5,  6,  7],\n",
      "        [ 8,  9, 10, 11],\n",
      "        [12, 13, 14, 15]])\n",
      "c[:, 0]: tensor([ 0,  4,  8, 12])\n",
      "c[0, :]: tensor([0, 1, 2, 3])\n",
      "c[0, :]: tensor(14)\n"
     ]
    }
   ],
   "source": [
    "c = torch.arange(16).view(4, 4)\n",
    "print(\"C: \", c)\n",
    "\n",
    "print(\"c[:, 0]:\", c[:, 0])\n",
    "print(\"c[0, :]:\", c[0, :])\n",
    "print(\"c[3, 2]:\", c[3, 2])"
   ]
  },
  {
   "cell_type": "code",
   "execution_count": 32,
   "metadata": {},
   "outputs": [
    {
     "name": "stdout",
     "output_type": "stream",
     "text": [
      "CUDA Avaail: False\n",
      "CUDA Avaail: 0\n"
     ]
    }
   ],
   "source": [
    "print(\"CUDA Avail:\", torch.cuda.is_available())\n",
    "print(\"Device Count:\", torch.cuda.device_count())"
   ]
  },
  {
   "cell_type": "code",
   "execution_count": 37,
   "metadata": {},
   "outputs": [],
   "source": [
    "# x = torch.tensor([1, 2, 3], device='cpu')\n",
    "# print(x)\n",
    "\n",
    "# y = torch.tensor([1, 2, 3], device='cuda')\n",
    "# print(y)"
   ]
  }
 ],
 "metadata": {
  "kernelspec": {
   "display_name": "Python 3",
   "language": "python",
   "name": "python3"
  },
  "language_info": {
   "codemirror_mode": {
    "name": "ipython",
    "version": 3
   },
   "file_extension": ".py",
   "mimetype": "text/x-python",
   "name": "python",
   "nbconvert_exporter": "python",
   "pygments_lexer": "ipython3",
   "version": "3.10.0"
  }
 },
 "nbformat": 4,
 "nbformat_minor": 2
}
